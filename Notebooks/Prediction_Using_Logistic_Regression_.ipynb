{
  "nbformat": 4,
  "nbformat_minor": 0,
  "metadata": {
    "colab": {
      "name": "Prediction_Using_Logistic_Regression .ipynb",
      "provenance": []
    },
    "kernelspec": {
      "name": "python3",
      "display_name": "Python 3"
    },
    "language_info": {
      "name": "python"
    }
  },
  "cells": [
    {
      "cell_type": "code",
      "execution_count": 20,
      "metadata": {
        "colab": {
          "base_uri": "https://localhost:8080/"
        },
        "id": "3phyizK1YcDf",
        "outputId": "2732cc21-9bf9-4665-d43f-1692d5319c60"
      },
      "outputs": [
        {
          "output_type": "stream",
          "name": "stdout",
          "text": [
            "[nltk_data] Downloading package punkt to /root/nltk_data...\n",
            "[nltk_data]   Package punkt is already up-to-date!\n",
            "[nltk_data] Downloading package vader_lexicon to /root/nltk_data...\n",
            "[nltk_data]   Package vader_lexicon is already up-to-date!\n",
            "[nltk_data] Downloading package stopwords to /root/nltk_data...\n",
            "[nltk_data]   Unzipping corpora/stopwords.zip.\n"
          ]
        }
      ],
      "source": [
        "import numpy as np # linear algebra\n",
        "import pandas as pd # data processing, CSV file I/O (e.g. pd.read_csv)\n",
        "import re\n",
        "import string\n",
        "import nltk\n",
        "import matplotlib.pyplot as plt\n",
        "import seaborn as sns\n",
        "\n",
        "from nltk import word_tokenize\n",
        "from nltk.corpus import stopwords\n",
        "from nltk.stem import PorterStemmer\n",
        "from nltk.tokenize import TweetTokenizer\n",
        "\n",
        "\n",
        "from nltk.sentiment.vader import SentimentIntensityAnalyzer as SIA\n",
        "nltk.download('punkt')\n",
        "nltk.download('vader_lexicon')\n",
        "nltk.download('stopwords')\n",
        "import warnings\n",
        "warnings.filterwarnings(\"ignore\")"
      ]
    },
    {
      "cell_type": "code",
      "source": [
        "data = pd.read_csv('reddit_wsb.csv')\n",
        "data.head()"
      ],
      "metadata": {
        "colab": {
          "base_uri": "https://localhost:8080/",
          "height": 337
        },
        "id": "62yBoYABeJLg",
        "outputId": "7d452ed9-17f3-433a-dc04-9e5fd6aa575b"
      },
      "execution_count": 2,
      "outputs": [
        {
          "output_type": "execute_result",
          "data": {
            "text/plain": [
              "                                               title  score      id  \\\n",
              "0  It's not about the money, it's about sending a...     55  l6ulcx   \n",
              "1  Math Professor Scott Steiner says the numbers ...    110  l6uibd   \n",
              "2                                    Exit the system      0  l6uhhn   \n",
              "3  NEW SEC FILING FOR GME! CAN SOMEONE LESS RETAR...     29  l6ugk6   \n",
              "4  Not to distract from GME, just thought our AMC...     71  l6ufgy   \n",
              "\n",
              "                                                 url  comms_num       created  \\\n",
              "0                    https://v.redd.it/6j75regs72e61          6  1.611863e+09   \n",
              "1                    https://v.redd.it/ah50lyny62e61         23  1.611862e+09   \n",
              "2  https://www.reddit.com/r/wallstreetbets/commen...         47  1.611862e+09   \n",
              "3  https://sec.report/Document/0001193125-21-019848/         74  1.611862e+09   \n",
              "4                https://i.redd.it/4h2sukb662e61.jpg        156  1.611862e+09   \n",
              "\n",
              "                                                body            timestamp  \n",
              "0                                                NaN  2021-01-28 21:37:41  \n",
              "1                                                NaN  2021-01-28 21:32:10  \n",
              "2  The CEO of NASDAQ pushed to halt trading “to g...  2021-01-28 21:30:35  \n",
              "3                                                NaN  2021-01-28 21:28:57  \n",
              "4                                                NaN  2021-01-28 21:26:56  "
            ],
            "text/html": [
              "\n",
              "  <div id=\"df-13ccec95-5235-41ce-b31e-75654a8134ae\">\n",
              "    <div class=\"colab-df-container\">\n",
              "      <div>\n",
              "<style scoped>\n",
              "    .dataframe tbody tr th:only-of-type {\n",
              "        vertical-align: middle;\n",
              "    }\n",
              "\n",
              "    .dataframe tbody tr th {\n",
              "        vertical-align: top;\n",
              "    }\n",
              "\n",
              "    .dataframe thead th {\n",
              "        text-align: right;\n",
              "    }\n",
              "</style>\n",
              "<table border=\"1\" class=\"dataframe\">\n",
              "  <thead>\n",
              "    <tr style=\"text-align: right;\">\n",
              "      <th></th>\n",
              "      <th>title</th>\n",
              "      <th>score</th>\n",
              "      <th>id</th>\n",
              "      <th>url</th>\n",
              "      <th>comms_num</th>\n",
              "      <th>created</th>\n",
              "      <th>body</th>\n",
              "      <th>timestamp</th>\n",
              "    </tr>\n",
              "  </thead>\n",
              "  <tbody>\n",
              "    <tr>\n",
              "      <th>0</th>\n",
              "      <td>It's not about the money, it's about sending a...</td>\n",
              "      <td>55</td>\n",
              "      <td>l6ulcx</td>\n",
              "      <td>https://v.redd.it/6j75regs72e61</td>\n",
              "      <td>6</td>\n",
              "      <td>1.611863e+09</td>\n",
              "      <td>NaN</td>\n",
              "      <td>2021-01-28 21:37:41</td>\n",
              "    </tr>\n",
              "    <tr>\n",
              "      <th>1</th>\n",
              "      <td>Math Professor Scott Steiner says the numbers ...</td>\n",
              "      <td>110</td>\n",
              "      <td>l6uibd</td>\n",
              "      <td>https://v.redd.it/ah50lyny62e61</td>\n",
              "      <td>23</td>\n",
              "      <td>1.611862e+09</td>\n",
              "      <td>NaN</td>\n",
              "      <td>2021-01-28 21:32:10</td>\n",
              "    </tr>\n",
              "    <tr>\n",
              "      <th>2</th>\n",
              "      <td>Exit the system</td>\n",
              "      <td>0</td>\n",
              "      <td>l6uhhn</td>\n",
              "      <td>https://www.reddit.com/r/wallstreetbets/commen...</td>\n",
              "      <td>47</td>\n",
              "      <td>1.611862e+09</td>\n",
              "      <td>The CEO of NASDAQ pushed to halt trading “to g...</td>\n",
              "      <td>2021-01-28 21:30:35</td>\n",
              "    </tr>\n",
              "    <tr>\n",
              "      <th>3</th>\n",
              "      <td>NEW SEC FILING FOR GME! CAN SOMEONE LESS RETAR...</td>\n",
              "      <td>29</td>\n",
              "      <td>l6ugk6</td>\n",
              "      <td>https://sec.report/Document/0001193125-21-019848/</td>\n",
              "      <td>74</td>\n",
              "      <td>1.611862e+09</td>\n",
              "      <td>NaN</td>\n",
              "      <td>2021-01-28 21:28:57</td>\n",
              "    </tr>\n",
              "    <tr>\n",
              "      <th>4</th>\n",
              "      <td>Not to distract from GME, just thought our AMC...</td>\n",
              "      <td>71</td>\n",
              "      <td>l6ufgy</td>\n",
              "      <td>https://i.redd.it/4h2sukb662e61.jpg</td>\n",
              "      <td>156</td>\n",
              "      <td>1.611862e+09</td>\n",
              "      <td>NaN</td>\n",
              "      <td>2021-01-28 21:26:56</td>\n",
              "    </tr>\n",
              "  </tbody>\n",
              "</table>\n",
              "</div>\n",
              "      <button class=\"colab-df-convert\" onclick=\"convertToInteractive('df-13ccec95-5235-41ce-b31e-75654a8134ae')\"\n",
              "              title=\"Convert this dataframe to an interactive table.\"\n",
              "              style=\"display:none;\">\n",
              "        \n",
              "  <svg xmlns=\"http://www.w3.org/2000/svg\" height=\"24px\"viewBox=\"0 0 24 24\"\n",
              "       width=\"24px\">\n",
              "    <path d=\"M0 0h24v24H0V0z\" fill=\"none\"/>\n",
              "    <path d=\"M18.56 5.44l.94 2.06.94-2.06 2.06-.94-2.06-.94-.94-2.06-.94 2.06-2.06.94zm-11 1L8.5 8.5l.94-2.06 2.06-.94-2.06-.94L8.5 2.5l-.94 2.06-2.06.94zm10 10l.94 2.06.94-2.06 2.06-.94-2.06-.94-.94-2.06-.94 2.06-2.06.94z\"/><path d=\"M17.41 7.96l-1.37-1.37c-.4-.4-.92-.59-1.43-.59-.52 0-1.04.2-1.43.59L10.3 9.45l-7.72 7.72c-.78.78-.78 2.05 0 2.83L4 21.41c.39.39.9.59 1.41.59.51 0 1.02-.2 1.41-.59l7.78-7.78 2.81-2.81c.8-.78.8-2.07 0-2.86zM5.41 20L4 18.59l7.72-7.72 1.47 1.35L5.41 20z\"/>\n",
              "  </svg>\n",
              "      </button>\n",
              "      \n",
              "  <style>\n",
              "    .colab-df-container {\n",
              "      display:flex;\n",
              "      flex-wrap:wrap;\n",
              "      gap: 12px;\n",
              "    }\n",
              "\n",
              "    .colab-df-convert {\n",
              "      background-color: #E8F0FE;\n",
              "      border: none;\n",
              "      border-radius: 50%;\n",
              "      cursor: pointer;\n",
              "      display: none;\n",
              "      fill: #1967D2;\n",
              "      height: 32px;\n",
              "      padding: 0 0 0 0;\n",
              "      width: 32px;\n",
              "    }\n",
              "\n",
              "    .colab-df-convert:hover {\n",
              "      background-color: #E2EBFA;\n",
              "      box-shadow: 0px 1px 2px rgba(60, 64, 67, 0.3), 0px 1px 3px 1px rgba(60, 64, 67, 0.15);\n",
              "      fill: #174EA6;\n",
              "    }\n",
              "\n",
              "    [theme=dark] .colab-df-convert {\n",
              "      background-color: #3B4455;\n",
              "      fill: #D2E3FC;\n",
              "    }\n",
              "\n",
              "    [theme=dark] .colab-df-convert:hover {\n",
              "      background-color: #434B5C;\n",
              "      box-shadow: 0px 1px 3px 1px rgba(0, 0, 0, 0.15);\n",
              "      filter: drop-shadow(0px 1px 2px rgba(0, 0, 0, 0.3));\n",
              "      fill: #FFFFFF;\n",
              "    }\n",
              "  </style>\n",
              "\n",
              "      <script>\n",
              "        const buttonEl =\n",
              "          document.querySelector('#df-13ccec95-5235-41ce-b31e-75654a8134ae button.colab-df-convert');\n",
              "        buttonEl.style.display =\n",
              "          google.colab.kernel.accessAllowed ? 'block' : 'none';\n",
              "\n",
              "        async function convertToInteractive(key) {\n",
              "          const element = document.querySelector('#df-13ccec95-5235-41ce-b31e-75654a8134ae');\n",
              "          const dataTable =\n",
              "            await google.colab.kernel.invokeFunction('convertToInteractive',\n",
              "                                                     [key], {});\n",
              "          if (!dataTable) return;\n",
              "\n",
              "          const docLinkHtml = 'Like what you see? Visit the ' +\n",
              "            '<a target=\"_blank\" href=https://colab.research.google.com/notebooks/data_table.ipynb>data table notebook</a>'\n",
              "            + ' to learn more about interactive tables.';\n",
              "          element.innerHTML = '';\n",
              "          dataTable['output_type'] = 'display_data';\n",
              "          await google.colab.output.renderOutput(dataTable, element);\n",
              "          const docLink = document.createElement('div');\n",
              "          docLink.innerHTML = docLinkHtml;\n",
              "          element.appendChild(docLink);\n",
              "        }\n",
              "      </script>\n",
              "    </div>\n",
              "  </div>\n",
              "  "
            ]
          },
          "metadata": {},
          "execution_count": 2
        }
      ]
    },
    {
      "cell_type": "code",
      "source": [
        "data.info()"
      ],
      "metadata": {
        "colab": {
          "base_uri": "https://localhost:8080/"
        },
        "id": "jorHhsA8e8Z7",
        "outputId": "701f6bcd-bae6-48df-ecfe-752db6d92a6d"
      },
      "execution_count": 3,
      "outputs": [
        {
          "output_type": "stream",
          "name": "stdout",
          "text": [
            "<class 'pandas.core.frame.DataFrame'>\n",
            "RangeIndex: 48260 entries, 0 to 48259\n",
            "Data columns (total 8 columns):\n",
            " #   Column     Non-Null Count  Dtype  \n",
            "---  ------     --------------  -----  \n",
            " 0   title      48260 non-null  object \n",
            " 1   score      48260 non-null  int64  \n",
            " 2   id         48260 non-null  object \n",
            " 3   url        48260 non-null  object \n",
            " 4   comms_num  48260 non-null  int64  \n",
            " 5   created    48260 non-null  float64\n",
            " 6   body       22521 non-null  object \n",
            " 7   timestamp  48260 non-null  object \n",
            "dtypes: float64(1), int64(2), object(5)\n",
            "memory usage: 2.9+ MB\n"
          ]
        }
      ]
    },
    {
      "cell_type": "code",
      "source": [
        "title_data = data[['title','timestamp']].copy()\n",
        "\n",
        "title_data = title_data.dropna()\n",
        "\n",
        "# Lower Case all posts \n",
        "title_data.title = title_data.title.str.lower()\n",
        "\n",
        "# Remove Handlers\n",
        "title_data.title = title_data.title.apply(lambda x:re.sub('@[^\\s]+','',x))\n",
        "\n",
        "# Remove Urls\n",
        "title_data.title = title_data.title.apply(lambda x:re.sub(r\"http\\S+\", \"\", x))\n",
        "\n",
        "# Remove all single charachters\n",
        "title_data.title = title_data.title.apply(lambda x:re.sub(r'\\s+[a-zA-Z]\\s+', '', x))\n",
        "\n",
        "# Substituting multiple spaces with single space\n",
        "title_data.title = title_data.title.apply(lambda x:re.sub(r'\\s+', ' ', x, flags=re.I))\n",
        "\n",
        "#Remove Time From Timestamp\n",
        "title_data.timestamp = pd.to_datetime(title_data.timestamp).dt.date"
      ],
      "metadata": {
        "id": "sLxab-sogvtV"
      },
      "execution_count": 4,
      "outputs": []
    },
    {
      "cell_type": "code",
      "source": [
        "sid = SIA()\n",
        "\n",
        "title_data['sentiments'] = title_data['title'].apply(lambda x: sid.polarity_scores(' '.join(re.findall(r'\\w+',x.lower()))))\n",
        "title_data['Positive Sentiment'] = title_data['sentiments'].apply(lambda x: x['pos']+1*(10**-6)) \n",
        "title_data['Neutral Sentiment'] = title_data['sentiments'].apply(lambda x: x['neu']+1*(10**-6))\n",
        "title_data['Negative Sentiment'] = title_data['sentiments'].apply(lambda x: x['neg']+1*(10**-6))\n",
        "\n",
        "title_data.drop(columns=['sentiments'],inplace=True)\n",
        "title_data.head()"
      ],
      "metadata": {
        "colab": {
          "base_uri": "https://localhost:8080/",
          "height": 206
        },
        "id": "cWwuosNVjEQg",
        "outputId": "848ae8a6-7e07-454b-8a79-55b9e46a1a1b"
      },
      "execution_count": 8,
      "outputs": [
        {
          "output_type": "execute_result",
          "data": {
            "text/plain": [
              "                                               title   timestamp  \\\n",
              "0  it's not about the money, it's about sendingme...  2021-01-28   \n",
              "1  math professor scott steiner says the numbers ...  2021-01-28   \n",
              "2                                    exit the system  2021-01-28   \n",
              "3  new sec filing for gme! can someone less retar...  2021-01-28   \n",
              "4  not to distract from gme, just thought our amc...  2021-01-28   \n",
              "\n",
              "   Positive Sentiment  Neutral Sentiment  Negative Sentiment  \n",
              "0            0.000001           1.000001            0.000001  \n",
              "1            0.000001           0.728001            0.272001  \n",
              "2            0.000001           1.000001            0.000001  \n",
              "3            0.138001           0.658001            0.204001  \n",
              "4            0.119001           0.881001            0.000001  "
            ],
            "text/html": [
              "\n",
              "  <div id=\"df-f64b24dc-07d3-4781-aaba-ee119ecce115\">\n",
              "    <div class=\"colab-df-container\">\n",
              "      <div>\n",
              "<style scoped>\n",
              "    .dataframe tbody tr th:only-of-type {\n",
              "        vertical-align: middle;\n",
              "    }\n",
              "\n",
              "    .dataframe tbody tr th {\n",
              "        vertical-align: top;\n",
              "    }\n",
              "\n",
              "    .dataframe thead th {\n",
              "        text-align: right;\n",
              "    }\n",
              "</style>\n",
              "<table border=\"1\" class=\"dataframe\">\n",
              "  <thead>\n",
              "    <tr style=\"text-align: right;\">\n",
              "      <th></th>\n",
              "      <th>title</th>\n",
              "      <th>timestamp</th>\n",
              "      <th>Positive Sentiment</th>\n",
              "      <th>Neutral Sentiment</th>\n",
              "      <th>Negative Sentiment</th>\n",
              "    </tr>\n",
              "  </thead>\n",
              "  <tbody>\n",
              "    <tr>\n",
              "      <th>0</th>\n",
              "      <td>it's not about the money, it's about sendingme...</td>\n",
              "      <td>2021-01-28</td>\n",
              "      <td>0.000001</td>\n",
              "      <td>1.000001</td>\n",
              "      <td>0.000001</td>\n",
              "    </tr>\n",
              "    <tr>\n",
              "      <th>1</th>\n",
              "      <td>math professor scott steiner says the numbers ...</td>\n",
              "      <td>2021-01-28</td>\n",
              "      <td>0.000001</td>\n",
              "      <td>0.728001</td>\n",
              "      <td>0.272001</td>\n",
              "    </tr>\n",
              "    <tr>\n",
              "      <th>2</th>\n",
              "      <td>exit the system</td>\n",
              "      <td>2021-01-28</td>\n",
              "      <td>0.000001</td>\n",
              "      <td>1.000001</td>\n",
              "      <td>0.000001</td>\n",
              "    </tr>\n",
              "    <tr>\n",
              "      <th>3</th>\n",
              "      <td>new sec filing for gme! can someone less retar...</td>\n",
              "      <td>2021-01-28</td>\n",
              "      <td>0.138001</td>\n",
              "      <td>0.658001</td>\n",
              "      <td>0.204001</td>\n",
              "    </tr>\n",
              "    <tr>\n",
              "      <th>4</th>\n",
              "      <td>not to distract from gme, just thought our amc...</td>\n",
              "      <td>2021-01-28</td>\n",
              "      <td>0.119001</td>\n",
              "      <td>0.881001</td>\n",
              "      <td>0.000001</td>\n",
              "    </tr>\n",
              "  </tbody>\n",
              "</table>\n",
              "</div>\n",
              "      <button class=\"colab-df-convert\" onclick=\"convertToInteractive('df-f64b24dc-07d3-4781-aaba-ee119ecce115')\"\n",
              "              title=\"Convert this dataframe to an interactive table.\"\n",
              "              style=\"display:none;\">\n",
              "        \n",
              "  <svg xmlns=\"http://www.w3.org/2000/svg\" height=\"24px\"viewBox=\"0 0 24 24\"\n",
              "       width=\"24px\">\n",
              "    <path d=\"M0 0h24v24H0V0z\" fill=\"none\"/>\n",
              "    <path d=\"M18.56 5.44l.94 2.06.94-2.06 2.06-.94-2.06-.94-.94-2.06-.94 2.06-2.06.94zm-11 1L8.5 8.5l.94-2.06 2.06-.94-2.06-.94L8.5 2.5l-.94 2.06-2.06.94zm10 10l.94 2.06.94-2.06 2.06-.94-2.06-.94-.94-2.06-.94 2.06-2.06.94z\"/><path d=\"M17.41 7.96l-1.37-1.37c-.4-.4-.92-.59-1.43-.59-.52 0-1.04.2-1.43.59L10.3 9.45l-7.72 7.72c-.78.78-.78 2.05 0 2.83L4 21.41c.39.39.9.59 1.41.59.51 0 1.02-.2 1.41-.59l7.78-7.78 2.81-2.81c.8-.78.8-2.07 0-2.86zM5.41 20L4 18.59l7.72-7.72 1.47 1.35L5.41 20z\"/>\n",
              "  </svg>\n",
              "      </button>\n",
              "      \n",
              "  <style>\n",
              "    .colab-df-container {\n",
              "      display:flex;\n",
              "      flex-wrap:wrap;\n",
              "      gap: 12px;\n",
              "    }\n",
              "\n",
              "    .colab-df-convert {\n",
              "      background-color: #E8F0FE;\n",
              "      border: none;\n",
              "      border-radius: 50%;\n",
              "      cursor: pointer;\n",
              "      display: none;\n",
              "      fill: #1967D2;\n",
              "      height: 32px;\n",
              "      padding: 0 0 0 0;\n",
              "      width: 32px;\n",
              "    }\n",
              "\n",
              "    .colab-df-convert:hover {\n",
              "      background-color: #E2EBFA;\n",
              "      box-shadow: 0px 1px 2px rgba(60, 64, 67, 0.3), 0px 1px 3px 1px rgba(60, 64, 67, 0.15);\n",
              "      fill: #174EA6;\n",
              "    }\n",
              "\n",
              "    [theme=dark] .colab-df-convert {\n",
              "      background-color: #3B4455;\n",
              "      fill: #D2E3FC;\n",
              "    }\n",
              "\n",
              "    [theme=dark] .colab-df-convert:hover {\n",
              "      background-color: #434B5C;\n",
              "      box-shadow: 0px 1px 3px 1px rgba(0, 0, 0, 0.15);\n",
              "      filter: drop-shadow(0px 1px 2px rgba(0, 0, 0, 0.3));\n",
              "      fill: #FFFFFF;\n",
              "    }\n",
              "  </style>\n",
              "\n",
              "      <script>\n",
              "        const buttonEl =\n",
              "          document.querySelector('#df-f64b24dc-07d3-4781-aaba-ee119ecce115 button.colab-df-convert');\n",
              "        buttonEl.style.display =\n",
              "          google.colab.kernel.accessAllowed ? 'block' : 'none';\n",
              "\n",
              "        async function convertToInteractive(key) {\n",
              "          const element = document.querySelector('#df-f64b24dc-07d3-4781-aaba-ee119ecce115');\n",
              "          const dataTable =\n",
              "            await google.colab.kernel.invokeFunction('convertToInteractive',\n",
              "                                                     [key], {});\n",
              "          if (!dataTable) return;\n",
              "\n",
              "          const docLinkHtml = 'Like what you see? Visit the ' +\n",
              "            '<a target=\"_blank\" href=https://colab.research.google.com/notebooks/data_table.ipynb>data table notebook</a>'\n",
              "            + ' to learn more about interactive tables.';\n",
              "          element.innerHTML = '';\n",
              "          dataTable['output_type'] = 'display_data';\n",
              "          await google.colab.output.renderOutput(dataTable, element);\n",
              "          const docLink = document.createElement('div');\n",
              "          docLink.innerHTML = docLinkHtml;\n",
              "          element.appendChild(docLink);\n",
              "        }\n",
              "      </script>\n",
              "    </div>\n",
              "  </div>\n",
              "  "
            ]
          },
          "metadata": {},
          "execution_count": 8
        }
      ]
    },
    {
      "cell_type": "code",
      "source": [
        "# creating class from sentiment values\n",
        "title_data['class_name'] = title_data[['Positive Sentiment', 'Neutral Sentiment', 'Negative Sentiment']].idxmax(axis=1)"
      ],
      "metadata": {
        "id": "Xssur8eBlYyR"
      },
      "execution_count": 9,
      "outputs": []
    },
    {
      "cell_type": "code",
      "source": [
        "# removing neutral class from reducing bias\n",
        "data = title_data[title_data['class_name'] != 'Neutral Sentiment']\n",
        "data.reset_index(drop=True, inplace=True)\n",
        "data.head(5)"
      ],
      "metadata": {
        "colab": {
          "base_uri": "https://localhost:8080/",
          "height": 206
        },
        "id": "rvaS723UlkkS",
        "outputId": "8e655f0c-9bb7-4745-c845-a52afeee890a"
      },
      "execution_count": 10,
      "outputs": [
        {
          "output_type": "execute_result",
          "data": {
            "text/plain": [
              "                                               title   timestamp  \\\n",
              "0                             i love you retards!!!!  2021-01-28   \n",
              "1                      the wallstreetbets war museum  2021-01-28   \n",
              "2  this took me longer than i'd like to admit. en...  2021-01-28   \n",
              "3                         most recent short interest  2021-01-28   \n",
              "4                          charitably-minded autists  2021-01-28   \n",
              "\n",
              "   Positive Sentiment  Neutral Sentiment  Negative Sentiment  \\\n",
              "0            0.677001           0.323001            0.000001   \n",
              "1            0.000001           0.435001            0.565001   \n",
              "2            0.517001           0.483001            0.000001   \n",
              "3            0.521001           0.479001            0.000001   \n",
              "4            0.545001           0.455001            0.000001   \n",
              "\n",
              "           class_name  \n",
              "0  Positive Sentiment  \n",
              "1  Negative Sentiment  \n",
              "2  Positive Sentiment  \n",
              "3  Positive Sentiment  \n",
              "4  Positive Sentiment  "
            ],
            "text/html": [
              "\n",
              "  <div id=\"df-03e05725-43a8-4e13-9374-c9366f14b1d3\">\n",
              "    <div class=\"colab-df-container\">\n",
              "      <div>\n",
              "<style scoped>\n",
              "    .dataframe tbody tr th:only-of-type {\n",
              "        vertical-align: middle;\n",
              "    }\n",
              "\n",
              "    .dataframe tbody tr th {\n",
              "        vertical-align: top;\n",
              "    }\n",
              "\n",
              "    .dataframe thead th {\n",
              "        text-align: right;\n",
              "    }\n",
              "</style>\n",
              "<table border=\"1\" class=\"dataframe\">\n",
              "  <thead>\n",
              "    <tr style=\"text-align: right;\">\n",
              "      <th></th>\n",
              "      <th>title</th>\n",
              "      <th>timestamp</th>\n",
              "      <th>Positive Sentiment</th>\n",
              "      <th>Neutral Sentiment</th>\n",
              "      <th>Negative Sentiment</th>\n",
              "      <th>class_name</th>\n",
              "    </tr>\n",
              "  </thead>\n",
              "  <tbody>\n",
              "    <tr>\n",
              "      <th>0</th>\n",
              "      <td>i love you retards!!!!</td>\n",
              "      <td>2021-01-28</td>\n",
              "      <td>0.677001</td>\n",
              "      <td>0.323001</td>\n",
              "      <td>0.000001</td>\n",
              "      <td>Positive Sentiment</td>\n",
              "    </tr>\n",
              "    <tr>\n",
              "      <th>1</th>\n",
              "      <td>the wallstreetbets war museum</td>\n",
              "      <td>2021-01-28</td>\n",
              "      <td>0.000001</td>\n",
              "      <td>0.435001</td>\n",
              "      <td>0.565001</td>\n",
              "      <td>Negative Sentiment</td>\n",
              "    </tr>\n",
              "    <tr>\n",
              "      <th>2</th>\n",
              "      <td>this took me longer than i'd like to admit. en...</td>\n",
              "      <td>2021-01-28</td>\n",
              "      <td>0.517001</td>\n",
              "      <td>0.483001</td>\n",
              "      <td>0.000001</td>\n",
              "      <td>Positive Sentiment</td>\n",
              "    </tr>\n",
              "    <tr>\n",
              "      <th>3</th>\n",
              "      <td>most recent short interest</td>\n",
              "      <td>2021-01-28</td>\n",
              "      <td>0.521001</td>\n",
              "      <td>0.479001</td>\n",
              "      <td>0.000001</td>\n",
              "      <td>Positive Sentiment</td>\n",
              "    </tr>\n",
              "    <tr>\n",
              "      <th>4</th>\n",
              "      <td>charitably-minded autists</td>\n",
              "      <td>2021-01-28</td>\n",
              "      <td>0.545001</td>\n",
              "      <td>0.455001</td>\n",
              "      <td>0.000001</td>\n",
              "      <td>Positive Sentiment</td>\n",
              "    </tr>\n",
              "  </tbody>\n",
              "</table>\n",
              "</div>\n",
              "      <button class=\"colab-df-convert\" onclick=\"convertToInteractive('df-03e05725-43a8-4e13-9374-c9366f14b1d3')\"\n",
              "              title=\"Convert this dataframe to an interactive table.\"\n",
              "              style=\"display:none;\">\n",
              "        \n",
              "  <svg xmlns=\"http://www.w3.org/2000/svg\" height=\"24px\"viewBox=\"0 0 24 24\"\n",
              "       width=\"24px\">\n",
              "    <path d=\"M0 0h24v24H0V0z\" fill=\"none\"/>\n",
              "    <path d=\"M18.56 5.44l.94 2.06.94-2.06 2.06-.94-2.06-.94-.94-2.06-.94 2.06-2.06.94zm-11 1L8.5 8.5l.94-2.06 2.06-.94-2.06-.94L8.5 2.5l-.94 2.06-2.06.94zm10 10l.94 2.06.94-2.06 2.06-.94-2.06-.94-.94-2.06-.94 2.06-2.06.94z\"/><path d=\"M17.41 7.96l-1.37-1.37c-.4-.4-.92-.59-1.43-.59-.52 0-1.04.2-1.43.59L10.3 9.45l-7.72 7.72c-.78.78-.78 2.05 0 2.83L4 21.41c.39.39.9.59 1.41.59.51 0 1.02-.2 1.41-.59l7.78-7.78 2.81-2.81c.8-.78.8-2.07 0-2.86zM5.41 20L4 18.59l7.72-7.72 1.47 1.35L5.41 20z\"/>\n",
              "  </svg>\n",
              "      </button>\n",
              "      \n",
              "  <style>\n",
              "    .colab-df-container {\n",
              "      display:flex;\n",
              "      flex-wrap:wrap;\n",
              "      gap: 12px;\n",
              "    }\n",
              "\n",
              "    .colab-df-convert {\n",
              "      background-color: #E8F0FE;\n",
              "      border: none;\n",
              "      border-radius: 50%;\n",
              "      cursor: pointer;\n",
              "      display: none;\n",
              "      fill: #1967D2;\n",
              "      height: 32px;\n",
              "      padding: 0 0 0 0;\n",
              "      width: 32px;\n",
              "    }\n",
              "\n",
              "    .colab-df-convert:hover {\n",
              "      background-color: #E2EBFA;\n",
              "      box-shadow: 0px 1px 2px rgba(60, 64, 67, 0.3), 0px 1px 3px 1px rgba(60, 64, 67, 0.15);\n",
              "      fill: #174EA6;\n",
              "    }\n",
              "\n",
              "    [theme=dark] .colab-df-convert {\n",
              "      background-color: #3B4455;\n",
              "      fill: #D2E3FC;\n",
              "    }\n",
              "\n",
              "    [theme=dark] .colab-df-convert:hover {\n",
              "      background-color: #434B5C;\n",
              "      box-shadow: 0px 1px 3px 1px rgba(0, 0, 0, 0.15);\n",
              "      filter: drop-shadow(0px 1px 2px rgba(0, 0, 0, 0.3));\n",
              "      fill: #FFFFFF;\n",
              "    }\n",
              "  </style>\n",
              "\n",
              "      <script>\n",
              "        const buttonEl =\n",
              "          document.querySelector('#df-03e05725-43a8-4e13-9374-c9366f14b1d3 button.colab-df-convert');\n",
              "        buttonEl.style.display =\n",
              "          google.colab.kernel.accessAllowed ? 'block' : 'none';\n",
              "\n",
              "        async function convertToInteractive(key) {\n",
              "          const element = document.querySelector('#df-03e05725-43a8-4e13-9374-c9366f14b1d3');\n",
              "          const dataTable =\n",
              "            await google.colab.kernel.invokeFunction('convertToInteractive',\n",
              "                                                     [key], {});\n",
              "          if (!dataTable) return;\n",
              "\n",
              "          const docLinkHtml = 'Like what you see? Visit the ' +\n",
              "            '<a target=\"_blank\" href=https://colab.research.google.com/notebooks/data_table.ipynb>data table notebook</a>'\n",
              "            + ' to learn more about interactive tables.';\n",
              "          element.innerHTML = '';\n",
              "          dataTable['output_type'] = 'display_data';\n",
              "          await google.colab.output.renderOutput(dataTable, element);\n",
              "          const docLink = document.createElement('div');\n",
              "          docLink.innerHTML = docLinkHtml;\n",
              "          element.appendChild(docLink);\n",
              "        }\n",
              "      </script>\n",
              "    </div>\n",
              "  </div>\n",
              "  "
            ]
          },
          "metadata": {},
          "execution_count": 10
        }
      ]
    },
    {
      "cell_type": "code",
      "source": [
        "# total number of positive and negative sentiments\n",
        "l = len(data[data['class_name'] == 'Negative Sentiment'])\n",
        "print(f\"There are {l} negative sentences\")\n",
        "\n",
        "m = len(data[data['class_name'] == 'Positive Sentiment'])\n",
        "print(f\"There are {m} positive sentences\")"
      ],
      "metadata": {
        "colab": {
          "base_uri": "https://localhost:8080/"
        },
        "id": "ptS3ckMTlkfJ",
        "outputId": "46c34bdf-116e-4c49-83d9-4e2dd74e28a0"
      },
      "execution_count": 11,
      "outputs": [
        {
          "output_type": "stream",
          "name": "stdout",
          "text": [
            "There are 1427 negative sentences\n",
            "There are 2070 positive sentences\n"
          ]
        }
      ]
    },
    {
      "cell_type": "code",
      "source": [
        "# replacing negative and positive sentiment in class with '0' and '1'\n",
        "data['class_name'][data['class_name'] == 'Negative Sentiment'] = 0\n",
        "data['class_name'][data['class_name'] == 'Positive Sentiment'] = 1\n",
        "\n",
        "data.rename(columns={'class_name':'class'}, inplace=True)"
      ],
      "metadata": {
        "id": "_O0Kn0Xhlkbl"
      },
      "execution_count": 12,
      "outputs": []
    },
    {
      "cell_type": "code",
      "source": [
        "# Plotting Positive and Negative Sentiments\n",
        "X = data[['Positive Sentiment', 'Negative Sentiment']].values\n",
        "Y = data['class'].values;\n",
        "\n",
        "fig, ax = plt.subplots(figsize = (8, 8))\n",
        "\n",
        "colors = ['red' , 'green']\n",
        "\n",
        "# Color based on the sentiment Y\n",
        "ax.scatter(X[:,0], X[:,1], c=[colors[int(k)] for k in Y], s=0.1)\n",
        "plt.xlabel(\"Positive\")\n",
        "plt.ylabel(\"Negative\")\n"
      ],
      "metadata": {
        "colab": {
          "base_uri": "https://localhost:8080/",
          "height": 514
        },
        "id": "rO5er4G7lkYk",
        "outputId": "9dd414da-b9b6-431b-da5a-eaa59291e7ab"
      },
      "execution_count": 13,
      "outputs": [
        {
          "output_type": "execute_result",
          "data": {
            "text/plain": [
              "Text(0, 0.5, 'Negative')"
            ]
          },
          "metadata": {},
          "execution_count": 13
        },
        {
          "output_type": "display_data",
          "data": {
            "text/plain": [
              "<Figure size 576x576 with 1 Axes>"
            ],
            "image/png": "[encoded data removed]"
          },
          "metadata": {
            "needs_background": "light"
          }
        }
      ]
    },
    {
      "cell_type": "markdown",
      "source": [
        "##### Graph shows that the positive and negative sentiments are majorly separated so the accuracy should be high"
      ],
      "metadata": {
        "id": "BWaaHOxVlVa8"
      }
    },
    {
      "cell_type": "code",
      "source": [
        "data = data[['title','class']].copy()\n",
        "data.head()"
      ],
      "metadata": {
        "colab": {
          "base_uri": "https://localhost:8080/",
          "height": 206
        },
        "id": "4UfNAXVylkWf",
        "outputId": "7e04198f-0462-47f0-a260-bebb4f7a574a"
      },
      "execution_count": 14,
      "outputs": [
        {
          "output_type": "execute_result",
          "data": {
            "text/plain": [
              "                                               title class\n",
              "0                             i love you retards!!!!     1\n",
              "1                      the wallstreetbets war museum     0\n",
              "2  this took me longer than i'd like to admit. en...     1\n",
              "3                         most recent short interest     1\n",
              "4                          charitably-minded autists     1"
            ],
            "text/html": [
              "\n",
              "  <div id=\"df-464f4436-6de7-4678-a5b4-3e6cb114b0e7\">\n",
              "    <div class=\"colab-df-container\">\n",
              "      <div>\n",
              "<style scoped>\n",
              "    .dataframe tbody tr th:only-of-type {\n",
              "        vertical-align: middle;\n",
              "    }\n",
              "\n",
              "    .dataframe tbody tr th {\n",
              "        vertical-align: top;\n",
              "    }\n",
              "\n",
              "    .dataframe thead th {\n",
              "        text-align: right;\n",
              "    }\n",
              "</style>\n",
              "<table border=\"1\" class=\"dataframe\">\n",
              "  <thead>\n",
              "    <tr style=\"text-align: right;\">\n",
              "      <th></th>\n",
              "      <th>title</th>\n",
              "      <th>class</th>\n",
              "    </tr>\n",
              "  </thead>\n",
              "  <tbody>\n",
              "    <tr>\n",
              "      <th>0</th>\n",
              "      <td>i love you retards!!!!</td>\n",
              "      <td>1</td>\n",
              "    </tr>\n",
              "    <tr>\n",
              "      <th>1</th>\n",
              "      <td>the wallstreetbets war museum</td>\n",
              "      <td>0</td>\n",
              "    </tr>\n",
              "    <tr>\n",
              "      <th>2</th>\n",
              "      <td>this took me longer than i'd like to admit. en...</td>\n",
              "      <td>1</td>\n",
              "    </tr>\n",
              "    <tr>\n",
              "      <th>3</th>\n",
              "      <td>most recent short interest</td>\n",
              "      <td>1</td>\n",
              "    </tr>\n",
              "    <tr>\n",
              "      <th>4</th>\n",
              "      <td>charitably-minded autists</td>\n",
              "      <td>1</td>\n",
              "    </tr>\n",
              "  </tbody>\n",
              "</table>\n",
              "</div>\n",
              "      <button class=\"colab-df-convert\" onclick=\"convertToInteractive('df-464f4436-6de7-4678-a5b4-3e6cb114b0e7')\"\n",
              "              title=\"Convert this dataframe to an interactive table.\"\n",
              "              style=\"display:none;\">\n",
              "        \n",
              "  <svg xmlns=\"http://www.w3.org/2000/svg\" height=\"24px\"viewBox=\"0 0 24 24\"\n",
              "       width=\"24px\">\n",
              "    <path d=\"M0 0h24v24H0V0z\" fill=\"none\"/>\n",
              "    <path d=\"M18.56 5.44l.94 2.06.94-2.06 2.06-.94-2.06-.94-.94-2.06-.94 2.06-2.06.94zm-11 1L8.5 8.5l.94-2.06 2.06-.94-2.06-.94L8.5 2.5l-.94 2.06-2.06.94zm10 10l.94 2.06.94-2.06 2.06-.94-2.06-.94-.94-2.06-.94 2.06-2.06.94z\"/><path d=\"M17.41 7.96l-1.37-1.37c-.4-.4-.92-.59-1.43-.59-.52 0-1.04.2-1.43.59L10.3 9.45l-7.72 7.72c-.78.78-.78 2.05 0 2.83L4 21.41c.39.39.9.59 1.41.59.51 0 1.02-.2 1.41-.59l7.78-7.78 2.81-2.81c.8-.78.8-2.07 0-2.86zM5.41 20L4 18.59l7.72-7.72 1.47 1.35L5.41 20z\"/>\n",
              "  </svg>\n",
              "      </button>\n",
              "      \n",
              "  <style>\n",
              "    .colab-df-container {\n",
              "      display:flex;\n",
              "      flex-wrap:wrap;\n",
              "      gap: 12px;\n",
              "    }\n",
              "\n",
              "    .colab-df-convert {\n",
              "      background-color: #E8F0FE;\n",
              "      border: none;\n",
              "      border-radius: 50%;\n",
              "      cursor: pointer;\n",
              "      display: none;\n",
              "      fill: #1967D2;\n",
              "      height: 32px;\n",
              "      padding: 0 0 0 0;\n",
              "      width: 32px;\n",
              "    }\n",
              "\n",
              "    .colab-df-convert:hover {\n",
              "      background-color: #E2EBFA;\n",
              "      box-shadow: 0px 1px 2px rgba(60, 64, 67, 0.3), 0px 1px 3px 1px rgba(60, 64, 67, 0.15);\n",
              "      fill: #174EA6;\n",
              "    }\n",
              "\n",
              "    [theme=dark] .colab-df-convert {\n",
              "      background-color: #3B4455;\n",
              "      fill: #D2E3FC;\n",
              "    }\n",
              "\n",
              "    [theme=dark] .colab-df-convert:hover {\n",
              "      background-color: #434B5C;\n",
              "      box-shadow: 0px 1px 3px 1px rgba(0, 0, 0, 0.15);\n",
              "      filter: drop-shadow(0px 1px 2px rgba(0, 0, 0, 0.3));\n",
              "      fill: #FFFFFF;\n",
              "    }\n",
              "  </style>\n",
              "\n",
              "      <script>\n",
              "        const buttonEl =\n",
              "          document.querySelector('#df-464f4436-6de7-4678-a5b4-3e6cb114b0e7 button.colab-df-convert');\n",
              "        buttonEl.style.display =\n",
              "          google.colab.kernel.accessAllowed ? 'block' : 'none';\n",
              "\n",
              "        async function convertToInteractive(key) {\n",
              "          const element = document.querySelector('#df-464f4436-6de7-4678-a5b4-3e6cb114b0e7');\n",
              "          const dataTable =\n",
              "            await google.colab.kernel.invokeFunction('convertToInteractive',\n",
              "                                                     [key], {});\n",
              "          if (!dataTable) return;\n",
              "\n",
              "          const docLinkHtml = 'Like what you see? Visit the ' +\n",
              "            '<a target=\"_blank\" href=https://colab.research.google.com/notebooks/data_table.ipynb>data table notebook</a>'\n",
              "            + ' to learn more about interactive tables.';\n",
              "          element.innerHTML = '';\n",
              "          dataTable['output_type'] = 'display_data';\n",
              "          await google.colab.output.renderOutput(dataTable, element);\n",
              "          const docLink = document.createElement('div');\n",
              "          docLink.innerHTML = docLinkHtml;\n",
              "          element.appendChild(docLink);\n",
              "        }\n",
              "      </script>\n",
              "    </div>\n",
              "  </div>\n",
              "  "
            ]
          },
          "metadata": {},
          "execution_count": 14
        }
      ]
    },
    {
      "cell_type": "code",
      "source": [
        "# creating training and testing data\n",
        "split_ratio = int(len(data) * 0.8)\n",
        "train_x = data['title'][:split_ratio]\n",
        "test_x = data['title'][split_ratio:]\n",
        "train_y = data['class'][:split_ratio]\n",
        "test_y = data['class'][split_ratio:]"
      ],
      "metadata": {
        "id": "AZCvnTshlkI0"
      },
      "execution_count": 15,
      "outputs": []
    },
    {
      "cell_type": "code",
      "source": [
        "train_y = np.asarray(train_y, dtype='int32')\n",
        "test_y = np.asarray(test_y, dtype='int32')\n",
        "\n",
        "train_y = train_y.reshape(-1, 1)\n",
        "test_y = test_y.reshape(-1,1)"
      ],
      "metadata": {
        "id": "Km_fUNk8qJ99"
      },
      "execution_count": 16,
      "outputs": []
    },
    {
      "cell_type": "code",
      "source": [
        "def preprocess(sentence):\n",
        "    \n",
        "    sentence = sentence.lower()\n",
        "    stemmer = PorterStemmer()\n",
        "    \n",
        "    tokenized = word_tokenize(sentence)\n",
        "    cleaned_list = []\n",
        "    \n",
        "    stopwords_english = stopwords.words('english')\n",
        "    \n",
        "    for word in tokenized:\n",
        "        if (word not in stopwords_english and word not in string.punctuation):\n",
        "            stem_word = stemmer.stem(word)  \n",
        "            cleaned_list.append(stem_word)\n",
        "            \n",
        "    return cleaned_list"
      ],
      "metadata": {
        "id": "KlPq7M06qJ7O"
      },
      "execution_count": 17,
      "outputs": []
    },
    {
      "cell_type": "code",
      "source": [
        "# Take sentencess and their labels as input, go through every sentence, preprocess them, count the occurrence of every word in the data set and create a frequency dictionary.\n",
        "def build_freqs(sentences, ys):\n",
        "\n",
        "    yslist = np.squeeze(ys).tolist()\n",
        "\n",
        "    freqs = {}\n",
        "    for y, sentence in zip(yslist, sentences):\n",
        "        for word in preprocess(sentence):\n",
        "            pair = (word, y)\n",
        "            if pair in freqs:\n",
        "                freqs[pair] += 1\n",
        "            else:\n",
        "                freqs[pair] = 1\n",
        "\n",
        "    return freqs\n",
        "\n",
        "freqs = build_freqs(train_x, train_y)"
      ],
      "metadata": {
        "id": "zBoKJxDaqJ45"
      },
      "execution_count": 21,
      "outputs": []
    },
    {
      "cell_type": "markdown",
      "source": [
        "## Building Logistic Regression Model"
      ],
      "metadata": {
        "id": "DhHyt95oz0jo"
      }
    },
    {
      "cell_type": "code",
      "source": [
        "def sigmoid(z): \n",
        "    return (1 / (1 + np.exp(-z)))"
      ],
      "metadata": {
        "id": "na__snELqJ1-"
      },
      "execution_count": 22,
      "outputs": []
    },
    {
      "cell_type": "code",
      "source": [
        "def gradientDescent(x, y, theta, alpha, num_iters):\n",
        "  m = len(x)\n",
        "  for i in range(0, num_iters):\n",
        "      z = np.dot(x, theta)\n",
        "      h = sigmoid(z)\n",
        "      J = (-1/m) * (np.dot((y.T), np.log(h)) + np.dot((1 - y).T, np.log(1 - h)))\n",
        "      theta = theta - (alpha/m) * np.dot(x.T, (h - y))\n",
        "      if i % (num_iters) == 0:\n",
        "            print(i, J)\n",
        "    \n",
        "  J = float(J)\n",
        "    \n",
        "  return J, theta"
      ],
      "metadata": {
        "id": "CIBXgpE2qJz5"
      },
      "execution_count": 25,
      "outputs": []
    },
    {
      "cell_type": "code",
      "source": [
        "def extract_features(sentence, freqs):\n",
        "\n",
        "    word_l = preprocess(sentence)\n",
        "    x = np.zeros((1, 3)) \n",
        "    \n",
        "    x[0,0] = 1 \n",
        "    \n",
        "    for word in word_l:            \n",
        "        x[0,1] += freqs[(word, 1)] if (word, 1) in freqs else 0\n",
        "        \n",
        "        x[0,2] += freqs[(word, 0)] if (word, 0.0) in freqs else 0 \n",
        "\n",
        "    return x"
      ],
      "metadata": {
        "id": "WVPQ1UqhqJwu"
      },
      "execution_count": 23,
      "outputs": []
    },
    {
      "cell_type": "code",
      "source": [
        "X = np.zeros((len(train_x), 3))\n",
        "for i in range(len(train_x)):\n",
        "    X[i, :]= extract_features(train_x[i], freqs)\n",
        "\n",
        "Y = train_y\n",
        "\n",
        "J, theta = gradientDescent(X, Y, np.zeros((3, 1)), 1e-5, 15000)\n",
        "\n",
        "print(f\"The cost after training is {J:.8f}.\")\n",
        "\n",
        "print(f\"The resulting vector of weights is {[round(t, 8) for t in np.squeeze(theta)]}\")"
      ],
      "metadata": {
        "colab": {
          "base_uri": "https://localhost:8080/"
        },
        "id": "fqHKS-hTp24h",
        "outputId": "5177255c-abeb-4fdf-a96e-065a1676dc55"
      },
      "execution_count": 26,
      "outputs": [
        {
          "output_type": "stream",
          "name": "stdout",
          "text": [
            "0 [[0.69314718]]\n",
            "The cost after training is 0.39880422.\n",
            "The resulting vector of weights is [0.00151719, 0.03820472, -0.0342857]\n"
          ]
        }
      ]
    },
    {
      "cell_type": "code",
      "source": [
        "# Given a sentence will predict the result using the ‘freqs’ dictionary and theta\n",
        "def predict(sentence, freqs, theta):\n",
        "\n",
        "    x = extract_features(sentence, freqs)\n",
        "\n",
        "    y_pred = sigmoid(np.dot(x, theta))\n",
        "    \n",
        "    return y_pred"
      ],
      "metadata": {
        "id": "rVd1MBYv2Zls"
      },
      "execution_count": 27,
      "outputs": []
    },
    {
      "cell_type": "code",
      "source": [
        "for text in ['I am happy', 'very bad', 'this movie should have been great.', 'great', 'great great', 'great great great', 'great great great great']:\n",
        "    print( '%s -> %f' % (text, predict(text, freqs, theta)))"
      ],
      "metadata": {
        "colab": {
          "base_uri": "https://localhost:8080/"
        },
        "id": "s9Oi2UPc2Zcb",
        "outputId": "953b5a2a-3e84-4707-9b42-0edf486cc171"
      },
      "execution_count": 28,
      "outputs": [
        {
          "output_type": "stream",
          "name": "stdout",
          "text": [
            "I am happy -> 0.548958\n",
            "very bad -> 0.426708\n",
            "this movie should have been great. -> 0.708490\n",
            "great -> 0.692462\n",
            "great great -> 0.835042\n",
            "great great great -> 0.919230\n",
            "great great great great -> 0.962387\n"
          ]
        }
      ]
    },
    {
      "cell_type": "code",
      "source": [
        "def test_logistic_regression(test_x, test_y, freqs, theta):\n",
        "\n",
        "    y_hat = []\n",
        "    \n",
        "    for sentence in test_x:\n",
        "        y_pred = predict(sentence, freqs, theta)\n",
        "        \n",
        "        if y_pred > 0.5:\n",
        "            y_hat.append(1.0)\n",
        "        else:\n",
        "            y_hat.append(0.0)\n",
        "\n",
        "    accuracy = (np.array((y_hat)) == np.squeeze(test_y)).mean()\n",
        "\n",
        "    return accuracy\n",
        "\n",
        "tmp_accuracy = test_logistic_regression(test_x, test_y, freqs, theta)\n",
        "print(f\"Logistic regression model's accuracy = {tmp_accuracy:.4f}\")"
      ],
      "metadata": {
        "colab": {
          "base_uri": "https://localhost:8080/"
        },
        "id": "mI-DpJVn2ZTB",
        "outputId": "7c9f5435-bddf-428a-a1e1-5dbc069c0cd7"
      },
      "execution_count": 29,
      "outputs": [
        {
          "output_type": "stream",
          "name": "stdout",
          "text": [
            "Logistic regression model's accuracy = 0.8986\n"
          ]
        }
      ]
    },
    {
      "cell_type": "code",
      "source": [
        "text = 'Gamestop is high'\n",
        "print(preprocess(text))\n",
        "y_hat = predict(text, freqs, theta)\n",
        "print(y_hat)\n",
        "if y_hat > 0.5:\n",
        "    print('Positive sentiment')\n",
        "else: \n",
        "    print('Negative sentiment')"
      ],
      "metadata": {
        "colab": {
          "base_uri": "https://localhost:8080/"
        },
        "id": "ENVhTFaB4m8w",
        "outputId": "03fd6a03-bd95-4394-ecfc-6c8397223d56"
      },
      "execution_count": 30,
      "outputs": [
        {
          "output_type": "stream",
          "name": "stdout",
          "text": [
            "['gamestop', 'high']\n",
            "[[0.50552421]]\n",
            "Positive sentiment\n"
          ]
        }
      ]
    }
  ]
}